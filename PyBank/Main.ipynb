{
 "cells": [
  {
   "cell_type": "code",
   "execution_count": null,
   "id": "f8da3342-ffc1-4c99-8098-365dbac43aeb",
   "metadata": {},
   "outputs": [
    {
     "ename": "SyntaxError",
     "evalue": "invalid syntax (1229725185.py, line 4)",
     "output_type": "error",
     "traceback": [
      "\u001b[0;36m  File \u001b[0;32m\"/var/folders/0m/kwg5jt897hz3j47jzbmmz4q00000gn/T/ipykernel_99728/1229725185.py\"\u001b[0;36m, line \u001b[0;32m4\u001b[0m\n\u001b[0;31m    The net total amount of Profit/Losses over the entire period.\u001b[0m\n\u001b[0m        ^\u001b[0m\n\u001b[0;31mSyntaxError\u001b[0m\u001b[0;31m:\u001b[0m invalid syntax\n"
     ]
    }
   ],
   "source": [
    "# The total number of months included in the dataset.\n",
    "\n",
    "\n",
    "    The net total amount of Profit/Losses over the entire period.\n",
    "\n",
    "\n",
    "    The average of the changes in Profit/Losses over the entire period.\n",
    "\n",
    "\n",
    "    The greatest increase in profits (date and amount) over the entire period.\n",
    "\n",
    "\n",
    "    The greatest decrease in losses (date and amount) over the entire period.\n",
    "\n",
    "\n"
   ]
  }
 ],
 "metadata": {
  "kernelspec": {
   "display_name": "Python 3 (ipykernel)",
   "language": "python",
   "name": "python3"
  },
  "language_info": {
   "codemirror_mode": {
    "name": "ipython",
    "version": 3
   },
   "file_extension": ".py",
   "mimetype": "text/x-python",
   "name": "python",
   "nbconvert_exporter": "python",
   "pygments_lexer": "ipython3",
   "version": "3.8.8"
  }
 },
 "nbformat": 4,
 "nbformat_minor": 5
}
