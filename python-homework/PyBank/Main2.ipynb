{
 "cells": [
  {
   "cell_type": "code",
   "execution_count": 2,
   "id": "7607e133-0488-4a00-8ef6-4ca652931134",
   "metadata": {},
   "outputs": [
    {
     "name": "stdout",
     "output_type": "stream",
     "text": [
      "Current Working Directory: /Users/christianseeley/Documents/Coding/python-homework/PyBank\n"
     ]
    }
   ],
   "source": [
    "# Import the pathlib and csv library\n",
    "\n",
    "from pathlib import Path\n",
    "import csv\n",
    "print(f\"Current Working Directory: {Path.cwd()}\")"
   ]
  },
  {
   "cell_type": "code",
   "execution_count": 14,
   "id": "19a68852-11bb-4f8c-a4cc-40e8dbd0a19d",
   "metadata": {},
   "outputs": [],
   "source": [
    "# Set the file path\n",
    "\n",
    "file = Path('./budget_data.csv')"
   ]
  },
  {
   "cell_type": "code",
   "execution_count": 7,
   "id": "b874d752-b775-4a50-a51e-da97a301d0d8",
   "metadata": {},
   "outputs": [],
   "source": [
    "# Initialize variable to hold months\n",
    "profit_loss = []"
   ]
  },
  {
   "cell_type": "code",
   "execution_count": 5,
   "id": "46784d58-2920-48e9-9b7a-08b14a66e800",
   "metadata": {},
   "outputs": [],
   "source": [
    "# Initialize line_num variable\n",
    "total_months = 0"
   ]
  },
  {
   "cell_type": "code",
   "execution_count": 12,
   "id": "6334676b-cea4-4941-9c31-f3a61cfa6ac0",
   "metadata": {},
   "outputs": [],
   "source": [
    "\n"
   ]
  },
  {
   "cell_type": "code",
   "execution_count": 15,
   "id": "93520395-2ca1-4be4-bc63-cbffa8781ed4",
   "metadata": {},
   "outputs": [
    {
     "ename": "SyntaxError",
     "evalue": "unexpected EOF while parsing (3482582208.py, line 1)",
     "output_type": "error",
     "traceback": [
      "\u001b[0;36m  File \u001b[0;32m\"/var/folders/0m/kwg5jt897hz3j47jzbmmz4q00000gn/T/ipykernel_4674/3482582208.py\"\u001b[0;36m, line \u001b[0;32m1\u001b[0m\n\u001b[0;31m    with open(file, 'r') as csvfile:\u001b[0m\n\u001b[0m                                    ^\u001b[0m\n\u001b[0;31mSyntaxError\u001b[0m\u001b[0;31m:\u001b[0m unexpected EOF while parsing\n"
     ]
    }
   ],
   "source": [
    "with open(file, 'r') as csvfile:"
   ]
  },
  {
   "cell_type": "code",
   "execution_count": null,
   "id": "a121cf34-19fc-45de-853b-36079bb616de",
   "metadata": {},
   "outputs": [],
   "source": []
  }
 ],
 "metadata": {
  "kernelspec": {
   "display_name": "Python 3 (ipykernel)",
   "language": "python",
   "name": "python3"
  },
  "language_info": {
   "codemirror_mode": {
    "name": "ipython",
    "version": 3
   },
   "file_extension": ".py",
   "mimetype": "text/x-python",
   "name": "python",
   "nbconvert_exporter": "python",
   "pygments_lexer": "ipython3",
   "version": "3.8.8"
  }
 },
 "nbformat": 4,
 "nbformat_minor": 5
}
