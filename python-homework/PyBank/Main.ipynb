{
 "cells": [
  {
   "cell_type": "code",
   "execution_count": 1,
   "id": "bb1b660b-604a-46ba-87c6-e791236a7d98",
   "metadata": {},
   "outputs": [],
   "source": [
    "# Set pathlib\n",
    "from pathlib import Path"
   ]
  },
  {
   "cell_type": "code",
   "execution_count": 2,
   "id": "845a1196-df30-4b5a-974c-371232023628",
   "metadata": {},
   "outputs": [],
   "source": [
    "# Import CSV library\n",
    "import csv\n",
    "budget_csv = Path('./budget_data.csv')"
   ]
  },
  {
   "cell_type": "code",
   "execution_count": 3,
   "id": "76e61432-2106-4428-8195-a7b2af5edaf3",
   "metadata": {},
   "outputs": [],
   "source": [
    "# initialise int variables\n",
    "line_num = 0\n",
    "profitloss_sum = 0\n",
    "max_pl = 0\n",
    "min_pl = 0\n",
    "sum = 0\n",
    "\n",
    "# initialise lists\n",
    "profitloss = []\n",
    "profitloss_dates = []\n",
    "profitloss_change = []"
   ]
  },
  {
   "cell_type": "code",
   "execution_count": 4,
   "id": "1c86452e-2e0f-4045-b2bf-18fc2b899797",
   "metadata": {},
   "outputs": [],
   "source": [
    "# open the input as an object \n",
    "with open(budget_csv, 'r') as csvfile:\n",
    "    \n",
    "    # print(type(csvfile))\n",
    "    \n",
    "    csv_reader = csv.reader(csvfile, delimiter = ',')\n",
    "    \n",
    "    # print(type(csv_reader))\n",
    "    \n",
    "    header = next(csv_reader)\n",
    "    \n",
    "    # print(f\"{header} <---- HEADER\")\n",
    "    \n",
    "    for row in csv_reader:\n",
    "        line_num += 1\n",
    "        profitloss.append(int(row[1]))\n",
    "        profitloss_sum += int(row[1])\n",
    "        profitloss_dates.append(row[0])\n",
    "        \n",
    "        # print(profitloss_sum)\n",
    "        \n",
    "# Check code :        \n",
    "#if line_num == 0:\n",
    "  #  print(f'The column names are {\", \".join(row)} this is line {line_num}')\n",
    "  #  line_num += 1 \n",
    "#else:\n",
    "#    print(f'{row[0]} the Profit or Loss was ${row[1]}, which is line {line_num}')\n",
    "   "
   ]
  },
  {
   "cell_type": "code",
   "execution_count": 5,
   "id": "74f7cc86-2d2a-404c-9d2d-9cf43e8b8b6a",
   "metadata": {},
   "outputs": [
    {
     "name": "stdout",
     "output_type": "stream",
     "text": [
      "-2315.12\n"
     ]
    }
   ],
   "source": [
    "# calculate changes in profit/loss:\n",
    "\n",
    "for i in range(1, len(profitloss)):\n",
    "    x = profitloss[i] - profitloss[i - 1]\n",
    "    profitloss_change.append(int(x))\n",
    "    \n",
    "# print(profitloss_change)\n",
    "\n",
    "for i in range(0, len(profitloss_change)):\n",
    "    sum += profitloss_change[i]\n",
    "    average_change_profitloss = round((sum / (len(profitloss_change))), 2)\n",
    "\n",
    "print(average_change_profitloss)"
   ]
  },
  {
   "cell_type": "code",
   "execution_count": 6,
   "id": "df988d4a-ab8b-4799-92bb-4a392d90026e",
   "metadata": {},
   "outputs": [
    {
     "name": "stdout",
     "output_type": "stream",
     "text": [
      "1170593 -1196225\n"
     ]
    }
   ],
   "source": [
    "# Calculate minimum and maximum profit and loss values\n",
    "\n",
    "for profloss in profitloss:\n",
    "    \n",
    "    if min_pl == 0:\n",
    "        max_pl == profloss\n",
    "        min_pl == profloss\n",
    "    if profloss > max_pl:\n",
    "        max_pl = profloss\n",
    "    elif profloss < min_pl:\n",
    "        min_pl = profloss\n",
    "        \n",
    "print(max_pl, min_pl)"
   ]
  },
  {
   "cell_type": "code",
   "execution_count": 7,
   "id": "252ad516-a61e-43a5-a710-7f5a264b29b4",
   "metadata": {},
   "outputs": [],
   "source": [
    "# Max profit and loss dates\n",
    "\n",
    "max_pl_index = profitloss.index(max_pl)\n",
    "min_pl_index = profitloss.index(min_pl)\n",
    "\n",
    "max_pl_date = profitloss_dates[max_pl_index]\n",
    "min_pl_date = profitloss_dates[min_pl_index]"
   ]
  },
  {
   "cell_type": "code",
   "execution_count": null,
   "id": "38fe72d4-81c8-4caa-b092-a05374c92b98",
   "metadata": {},
   "outputs": [],
   "source": [
    "# I am not sure how to add the greatest increase in profits to the prior month, so that it gives the actual increase/decrease across the two months, rather than just the highest or lowest month in the list."
   ]
  },
  {
   "cell_type": "code",
   "execution_count": 8,
   "id": "7ca24f9f-421c-470e-9fcc-a241c8b58a1f",
   "metadata": {},
   "outputs": [
    {
     "name": "stdout",
     "output_type": "stream",
     "text": [
      "Financial Analysis\n",
      "----------------------------\n",
      "Total Months: 86 \n",
      "Total: $38382578\n",
      "Average Change: $-2315.12\n",
      "Greatest Increase in Profits: $1170593 on Feb-2012\n",
      "Greatest Decrease in Profits: $-1196225 on Sep-2013\n"
     ]
    }
   ],
   "source": [
    "print(f\"Financial Analysis\")\n",
    "print(f\"----------------------------\")\n",
    "print(f\"Total Months: {line_num} \")\n",
    "print(f\"Total: ${profitloss_sum}\")\n",
    "print(f\"Average Change: ${average_change_profitloss}\")\n",
    "print(f\"Greatest Increase in Profits: ${max_pl} on {max_pl_date}\")\n",
    "print(f\"Greatest Decrease in Profits: ${min_pl} on {min_pl_date}\")"
   ]
  },
  {
   "cell_type": "code",
   "execution_count": 9,
   "id": "650e43e2-b6fc-4cac-835a-59681264e0ee",
   "metadata": {},
   "outputs": [],
   "source": [
    "output_path = Path('output.txt')\n",
    "with open(output_path, 'w') as file:\n",
    "    file.write(f\"Financial Analysis\\n\")\n",
    "    file.write(f\"----------------------------\\n\")\n",
    "    file.write(f\"Total Months: {line_num} \\n\")\n",
    "    file.write(f\"Total: ${profitloss_sum}\\n\")\n",
    "    file.write(f\"Average Change: ${average_change_profitloss}\\n\")\n",
    "    file.write(f\"Greatest Increase in Profits: {max_pl_date} (${max_pl}) \\n\")\n",
    "    file.write(f\"Greatest Decrease in Profits: {min_pl_date} (${min_pl}) \\n\")"
   ]
  },
  {
   "cell_type": "code",
   "execution_count": null,
   "id": "883db581-2d84-4bff-a28c-328bb5c63084",
   "metadata": {},
   "outputs": [],
   "source": []
  },
  {
   "cell_type": "code",
   "execution_count": null,
   "id": "ed45fcd5-bfa5-492b-a1bd-783739955bf7",
   "metadata": {},
   "outputs": [],
   "source": []
  }
 ],
 "metadata": {
  "kernelspec": {
   "display_name": "Python 3 (ipykernel)",
   "language": "python",
   "name": "python3"
  },
  "language_info": {
   "codemirror_mode": {
    "name": "ipython",
    "version": 3
   },
   "file_extension": ".py",
   "mimetype": "text/x-python",
   "name": "python",
   "nbconvert_exporter": "python",
   "pygments_lexer": "ipython3",
   "version": "3.8.8"
  }
 },
 "nbformat": 4,
 "nbformat_minor": 5
}
