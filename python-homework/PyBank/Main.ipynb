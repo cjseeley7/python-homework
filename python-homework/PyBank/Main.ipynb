{
 "cells": [
  {
   "cell_type": "code",
   "execution_count": null,
   "id": "c70b5a1f-cb5e-4f2a-ae19-4df2c1368814",
   "metadata": {},
   "outputs": [],
   "source": [
    "# The total number of months included in the dataset.\n",
    "\n",
    "\n",
    "# The net total amount of Profit/Losses over the entire period.\n",
    "    ### Total = Sum of profit/loss \n",
    "\n",
    "# The average of the changes in Profit/Losses over the entire period.\n",
    "    ### Average_change = Total / number of months\n",
    "\n",
    "# The greatest increase in profits (date and amount) over the entire period.\n",
    "    ### Order list from highest to lowest\n",
    "    \n",
    "   # or     Create two variables, maximum and minimum\n",
    "    \n",
    "    \n",
    "    ### Select top variable? \n",
    "    \n",
    "\n",
    "# The greatest decrease in losses (date and amount) over the entire period.\n",
    "    ### ?\n",
    "\n",
    "\n",
    "# Answers:\n",
    "\n",
    "# Financial Analysis\n",
    "# ----------------------------\n",
    "# Total Months: 86\n",
    "# Total: $38382578\n",
    "# Average  Change: $-2315.12\n",
    "# Greatest Increase in Profits: Feb-2012 ($1926159)\n",
    "# Greatest Decrease in Profits: Sep-2013 ($-2196167)"
   ]
  },
  {
   "cell_type": "code",
   "execution_count": null,
   "id": "b936e5f1-c069-419b-9d62-fe1a6a33ddb5",
   "metadata": {},
   "outputs": [],
   "source": []
  },
  {
   "cell_type": "code",
   "execution_count": null,
   "id": "a61cee3e-dd63-4444-acea-1a3a449b92a5",
   "metadata": {},
   "outputs": [],
   "source": [
    "# Set pathlib\n",
    "from pathlib import Path"
   ]
  },
  {
   "cell_type": "code",
   "execution_count": null,
   "id": "827cd94f-aff4-469d-a137-6324f2bb465f",
   "metadata": {},
   "outputs": [],
   "source": [
    "# Import CSV library\n",
    "import csv\n",
    "csv_file = Path('./budget_data.csv')"
   ]
  },
  {
   "cell_type": "code",
   "execution_count": null,
   "id": "dcfc8595-46cd-4ab7-a87f-e431f4e510a3",
   "metadata": {},
   "outputs": [],
   "source": [
    "# initialise int variables\n",
    "line_num = 0\n",
    "total_months = 0\n",
    "total = 0\n",
    "total_monthly = 0\n",
    "average_change = 0\n",
    "min_profit = 0\n",
    "max_profit = 0\n",
    "average_change_rounded = 0\n"
   ]
  },
  {
   "cell_type": "code",
   "execution_count": null,
   "id": "bb3fb0f2-daf6-4010-8ba6-a5ef0c88161f",
   "metadata": {},
   "outputs": [],
   "source": [
    "# initilise list variables\n",
    "greatest_increase = []\n",
    "greatest_decrease = []\n",
    "monthly_profit_loss = []\n",
    "monthly_profit_change_list = []\n"
   ]
  },
  {
   "cell_type": "code",
   "execution_count": null,
   "id": "c7286b2f-526f-45be-b0fc-c85890c654dc",
   "metadata": {},
   "outputs": [],
   "source": [
    "# Initialise dict variables\n",
    "csv_dict = {}"
   ]
  },
  {
   "cell_type": "code",
   "execution_count": null,
   "id": "e20196b3-84ee-4c26-87cc-8bb17532e880",
   "metadata": {},
   "outputs": [],
   "source": [
    "# open the input as an object \n",
    "with open(csv_file, 'r') as csvfile:\n",
    "    \n",
    "    # using csv reader to use comma as delimiter \n",
    "    csv_reader = csv.reader(csvfile, delimiter = ',')\n",
    "      \n",
    "    # go to first row and print headers\n",
    "    header = next(csv_reader)\n",
    "    line_num += 1\n",
    "    \n",
    "    # read each row of data after header\n",
    "    for row in csv_reader:\n",
    "        # calculate total_months in dataset\n",
    "        total_months += 1  \n",
    "           \n",
    "        # print(total_months)           "
   ]
  },
  {
   "cell_type": "code",
   "execution_count": null,
   "id": "32a612cd-cffc-408a-98f8-b599dd44ed55",
   "metadata": {},
   "outputs": [],
   "source": [
    "        # calculate net total profit and/or loss for data   \n",
    "        total_monthly = int(row[1])\n",
    "        total += total_monthly\n",
    "        \n",
    "       ## sum(total) DOES NOT WORK\n",
    "            \n",
    "\n",
    "    \n",
    "        "
   ]
  },
  {
   "cell_type": "code",
   "execution_count": null,
   "id": "f36da5e0-3508-440b-bd5c-8d41b84c39b5",
   "metadata": {},
   "outputs": [],
   "source": [
    "#Create list of profit/loss for each month\n",
    "monthly_profit_loss.append(int(row[1]))\n"
   ]
  },
  {
   "cell_type": "code",
   "execution_count": null,
   "id": "c906a89a-2ddf-4003-9460-f3916e0b32e5",
   "metadata": {},
   "outputs": [],
   "source": [
    "#Create Dictionary containing each row\n",
    "dict_key = row[0]\n",
    "dict_value = row[1]\n",
    "csv_dict[dict_key] = dict_value"
   ]
  },
  {
   "cell_type": "code",
   "execution_count": null,
   "id": "e88dda13-f8b0-4771-87e5-03fdfc7c9d33",
   "metadata": {},
   "outputs": [],
   "source": [
    "#Parse monthly profit/loss list\n",
    "#Create normalised int variables\n",
    "\n",
    "index = 0\n",
    "next_month_index = 1\n",
    "monthly_profit_change = 0\n",
    "monthly_profit_change_total = 0\n",
    "index_of_last_month = total_months -1"
   ]
  },
  {
   "cell_type": "code",
   "execution_count": null,
   "id": "30d3f458-765c-43cb-ad23-fcca64bf77c3",
   "metadata": {},
   "outputs": [],
   "source": [
    "#Loop through the profit and loss list\n",
    "for month in monthly_profit_loss:\n",
    "    #Calculate monthly profit change from the current month to previous month\n",
    "    monthly_profit_change = (monthly_profit_loss[next_month_index]) - (monthly_profit_loss[index])\n",
    "   \n",
    "    #Iterate the current and next month indexes\n",
    "    index += 1\n",
    "    next_month_index += 1\n",
    "    \n",
    "    #Calculate the total profit change month to month\n",
    "    monthly_profit_change_total += monthly_profit_change\n",
    "    \n",
    "    #Add month on month profit comparisons to change list\n",
    "    monthly_profit_change_list.append(monthly_profit_change)\n",
    "    \n",
    "    #Calculate the average profit change for the whole period\n",
    "    average_change = monthly_profit_change_total / index_of_last_month\n",
    "    average_change_rounded = round(average_change,2)\n",
    "    \n",
    "    #Break out of if loop when last item in the list is reached\n",
    "    if index == index_of_last_month:\n",
    "        break\n",
    "\n",
    "#Greatest Increase and Decrease in profits are    \n",
    "max_value_change = max(monthly_profit_change_list) \n",
    "min_value_change = min(monthly_profit_change_list) \n",
    "max_value_index = monthly_profit_change_list.index(max_value_change)\n",
    "min_value_index = monthly_profit_change_list.index(min_value_change)\n",
    "\n",
    "\n",
    "# NOT SURE WHAT THIS MEANS"
   ]
  },
  {
   "cell_type": "code",
   "execution_count": null,
   "id": "965fea7a-ff3b-46f4-b6f4-24b4c42fd0eb",
   "metadata": {},
   "outputs": [],
   "source": []
  },
  {
   "cell_type": "code",
   "execution_count": null,
   "id": "1fe54dd0-899e-409b-a65a-f9f6a376aedf",
   "metadata": {},
   "outputs": [],
   "source": [
    "# get these items from the dictionary\n",
    "#max value key will be position + 1 to account for list starting at 0\n",
    "max_value_key = list(csv_dict)[max_value_index + 1]\n",
    "#min value key will be position + 1 to account for list starting at 0\n",
    "min_value_key = list(csv_dict)[min_value_index + 1]\n",
    "    \n",
    "        "
   ]
  },
  {
   "cell_type": "code",
   "execution_count": null,
   "id": "c46171d9-182a-4e70-85fd-9812e9978b9a",
   "metadata": {},
   "outputs": [],
   "source": []
  },
  {
   "cell_type": "code",
   "execution_count": null,
   "id": "eb366770-34b3-4c0b-b67d-39bc7fcb3f63",
   "metadata": {},
   "outputs": [],
   "source": []
  },
  {
   "cell_type": "code",
   "execution_count": null,
   "id": "f7c70d08-e09c-4c0e-a9c2-814ef372a1dd",
   "metadata": {},
   "outputs": [],
   "source": [
    "# Print the Financial Analysis\n",
    "print(f\"Financial Analysis\")\n",
    "print(f\"----------------------------\")\n",
    "print(f\"Total Months: {total_months}\")\n",
    "print(f\"Total: ${total}\")\n",
    "print(f\"Average Change: ${average_change_rounded}\")\n",
    "print(f\"Greatest Increase in Profits: {max_value_key} (${max_value_change})\")\n",
    "print(f\"Greatest Decrease in Profits: {min_value_key} (${min_value_change})\")"
   ]
  },
  {
   "cell_type": "code",
   "execution_count": null,
   "id": "21296986-69ff-47dc-837c-68e974b24cb5",
   "metadata": {},
   "outputs": [],
   "source": [
    "\n",
    "    \n"
   ]
  },
  {
   "cell_type": "code",
   "execution_count": null,
   "id": "105293c0-3243-4701-b393-6790d6addfbe",
   "metadata": {},
   "outputs": [],
   "source": [
    "profit_loss_change = []\n",
    "\n",
    "for i in range(1, len(profitloss)):\n",
    "    x = profitloss[i] - profitloss[i - 1]\n",
    "    profitloss_change.append(int(x))\n",
    "\n",
    "print(profit_loss_change)"
   ]
  },
  {
   "cell_type": "code",
   "execution_count": null,
   "id": "2c8b74d0-1b94-4561-9894-8dd5b55d676f",
   "metadata": {},
   "outputs": [],
   "source": [
    "# Count each row after header\n",
    "for row in csv_reader:\n",
    "    # Calculate Total Months in dataset\n",
    "    \n",
    "    total_months += 1\n",
    "    print(total_months)\n",
    "       "
   ]
  },
  {
   "cell_type": "code",
   "execution_count": null,
   "id": "899aa158-db86-4632-a9f8-49016eff63d6",
   "metadata": {},
   "outputs": [],
   "source": []
  },
  {
   "cell_type": "code",
   "execution_count": null,
   "id": "b40bb3f5-3e33-4891-a784-e3060f29a8cd",
   "metadata": {},
   "outputs": [],
   "source": [
    "with open('../PyBank/output.txt', 'w') as file:\n",
    "    file.write(\"Financial Analysis\")\n",
    "    file.write('\\n')\n",
    "    file.write(f\"----------------------------\")\n",
    "    file.write('\\n')\n",
    "    file.write(f\"Total Months: {total_months}\")\n",
    "    file.write('\\n')\n",
    "    file.write(f\"Total: ${total}\")\n",
    "    file.write('\\n')\n",
    "    file.write(f\"Average Change: ${average_change_rounded}\")\n",
    "    file.write('\\n')\n",
    "    file.write(f\"Greatest Increase in Profits: {max_value_key} (${max_value_change})\")\n",
    "    file.write('\\n')\n",
    "    file.write(f\"Greatest Decrease in Profits: {min_value_key} (${min_value_change})\")"
   ]
  },
  {
   "cell_type": "code",
   "execution_count": null,
   "id": "6ea68236-014e-45da-abae-9a61e7fff0d0",
   "metadata": {},
   "outputs": [],
   "source": []
  },
  {
   "cell_type": "code",
   "execution_count": null,
   "id": "84ec1176-cf7e-4402-81f3-db3e5af0be3f",
   "metadata": {},
   "outputs": [],
   "source": []
  },
  {
   "cell_type": "code",
   "execution_count": null,
   "id": "8a7dfa7b-3562-4fe6-a4f4-ae1006c59cac",
   "metadata": {},
   "outputs": [],
   "source": []
  },
  {
   "cell_type": "code",
   "execution_count": null,
   "id": "8083444c-67cd-4624-9c72-5c13fc9573dd",
   "metadata": {},
   "outputs": [],
   "source": []
  },
  {
   "cell_type": "code",
   "execution_count": null,
   "id": "8a3266c0-9fe2-4896-bec5-c58588807bf2",
   "metadata": {},
   "outputs": [],
   "source": []
  },
  {
   "cell_type": "code",
   "execution_count": null,
   "id": "b750dfe3-3216-4e8e-af12-607c264eedb5",
   "metadata": {},
   "outputs": [],
   "source": []
  },
  {
   "cell_type": "code",
   "execution_count": null,
   "id": "3f880707-17ec-45e4-9a3a-d1a449ad077f",
   "metadata": {},
   "outputs": [],
   "source": [
    "# OTHER ONLINE SOURCES\n",
    "\n",
    "# Use a for-loop to iterate through a CSV file and increment a counter, \n",
    "# num_rows, during each iteration.\n",
    "\n",
    "num_rows = 0\n",
    "for row in open(\"budget_data.csv\"):\n",
    "    num_rows += 1\n",
    "    \n",
    "print(num_rows)"
   ]
  },
  {
   "cell_type": "code",
   "execution_count": null,
   "id": "bad7db54-e4a6-4e5f-b27b-5b4e262d38f8",
   "metadata": {},
   "outputs": [],
   "source": []
  },
  {
   "cell_type": "code",
   "execution_count": null,
   "id": "4f49a2f5-7e06-4673-9016-26d3db2cd764",
   "metadata": {},
   "outputs": [],
   "source": []
  },
  {
   "cell_type": "code",
   "execution_count": null,
   "id": "8d717416-51e9-4334-ae20-2d402c81d10f",
   "metadata": {},
   "outputs": [],
   "source": [
    "# OTHER RUBBISH\n",
    "\n",
    "for row in open(\"budget_data.csv\"):\n",
    "  rowcount+= 1\n",
    " #printing the result\n",
    "print(\"Number of lines present:\", rowcount)"
   ]
  },
  {
   "cell_type": "code",
   "execution_count": null,
   "id": "f60bdd99-ce09-4d13-a5f7-670c730a5fa8",
   "metadata": {},
   "outputs": [],
   "source": []
  },
  {
   "cell_type": "code",
   "execution_count": null,
   "id": "c1a67a26-4526-41e3-b7f5-df4375577f64",
   "metadata": {},
   "outputs": [],
   "source": []
  },
  {
   "cell_type": "code",
   "execution_count": null,
   "id": "9c930d65-8394-45e4-8ca2-30989bcf724c",
   "metadata": {},
   "outputs": [],
   "source": [
    "# OTHER INFO FROM INTERNET\n",
    "\n",
    "\n",
    "with open('budget_data.csv') as file:\n",
    "    content = file.readlines()\n",
    "header = content[:1]\n",
    "rows = content[1:]\n",
    "print(header)\n",
    "print(rows)"
   ]
  },
  {
   "cell_type": "code",
   "execution_count": null,
   "id": "96b45a5e-cf06-4b04-9856-96e0df9302e6",
   "metadata": {},
   "outputs": [],
   "source": [
    "# NOT SURE IF WE CAN USE PANDAS OR IF IT HELPS?\n",
    "\n",
    "\n",
    "import pandas as pd"
   ]
  },
  {
   "cell_type": "code",
   "execution_count": null,
   "id": "dd7094be-c66a-4cab-a8fa-2764b2dc32c1",
   "metadata": {},
   "outputs": [],
   "source": [
    "data= pd.read_csv(\"budget_data.csv\")\n",
    "data"
   ]
  },
  {
   "cell_type": "code",
   "execution_count": null,
   "id": "a9b4e69d-8f4d-4298-801d-224c3618311b",
   "metadata": {},
   "outputs": [],
   "source": [
    "# Replace Profit/Loss with Profit_loss\n",
    "\n",
    "csvreader = csv.reader(data, delimiter=\",\")"
   ]
  },
  {
   "cell_type": "code",
   "execution_count": null,
   "id": "b052b06d-7c3b-4495-a8c4-de881baf9bd2",
   "metadata": {},
   "outputs": [],
   "source": [
    "csv_header = next(csvreader)"
   ]
  },
  {
   "cell_type": "code",
   "execution_count": null,
   "id": "26eea3a4-7070-4e58-bb85-2ffa71adbf3c",
   "metadata": {},
   "outputs": [],
   "source": [
    "print(csv_header)"
   ]
  },
  {
   "cell_type": "code",
   "execution_count": null,
   "id": "15cad43e-5bc0-4a1f-b562-22e80a9c9fe0",
   "metadata": {},
   "outputs": [],
   "source": [
    "# Initialize dictionary\n",
    "\n",
    "analysis = {}"
   ]
  },
  {
   "cell_type": "code",
   "execution_count": null,
   "id": "cf066e83-db41-4b9c-b26a-5ccb847699ed",
   "metadata": {},
   "outputs": [],
   "source": [
    "for row in csvreader:\n",
    "        # Print the row\n",
    "        print(row)"
   ]
  },
  {
   "cell_type": "code",
   "execution_count": null,
   "id": "405067db-a2b3-4a6b-9cb7-5b8598722062",
   "metadata": {},
   "outputs": [],
   "source": []
  },
  {
   "cell_type": "code",
   "execution_count": null,
   "id": "8aa2dae1-a02f-40b0-8f76-1598cf5b0ede",
   "metadata": {},
   "outputs": [],
   "source": []
  },
  {
   "cell_type": "code",
   "execution_count": null,
   "id": "b6a6bbcd-f238-4346-b9ec-9062289ea88d",
   "metadata": {},
   "outputs": [],
   "source": []
  },
  {
   "cell_type": "code",
   "execution_count": null,
   "id": "9bbf7b5a-c089-4059-8f1a-f99558e6559d",
   "metadata": {},
   "outputs": [],
   "source": []
  },
  {
   "cell_type": "code",
   "execution_count": null,
   "id": "e7c3b3d2-763c-4c1d-ae6a-fb9f622e1b6e",
   "metadata": {},
   "outputs": [],
   "source": []
  },
  {
   "cell_type": "code",
   "execution_count": null,
   "id": "13aad6c6-ff67-43a1-97eb-8e4cc9b9bd88",
   "metadata": {},
   "outputs": [],
   "source": [
    "\n"
   ]
  },
  {
   "cell_type": "code",
   "execution_count": null,
   "id": "df63df5f-f90e-4b93-aa21-aa0a037b01b8",
   "metadata": {},
   "outputs": [],
   "source": []
  },
  {
   "cell_type": "code",
   "execution_count": null,
   "id": "68c2f32f-9ba9-40be-bfb8-3ea187c08c07",
   "metadata": {},
   "outputs": [],
   "source": []
  },
  {
   "cell_type": "code",
   "execution_count": null,
   "id": "ab4e09e2-dabb-45e4-a472-a7615f9ccf0b",
   "metadata": {},
   "outputs": [],
   "source": []
  },
  {
   "cell_type": "code",
   "execution_count": null,
   "id": "b8579e87-302e-40b0-9484-f59a26e7296e",
   "metadata": {},
   "outputs": [],
   "source": []
  },
  {
   "cell_type": "code",
   "execution_count": null,
   "id": "b5210aeb-809a-4bef-b5f8-e809bbb3adf5",
   "metadata": {},
   "outputs": [],
   "source": [
    "\n"
   ]
  },
  {
   "cell_type": "code",
   "execution_count": null,
   "id": "e1bdb4a1-b9b1-478b-9379-75b48b8303bd",
   "metadata": {},
   "outputs": [],
   "source": []
  },
  {
   "cell_type": "code",
   "execution_count": null,
   "id": "e2844265-5cc5-4a39-9e7a-d6757062a0a6",
   "metadata": {},
   "outputs": [],
   "source": []
  },
  {
   "cell_type": "code",
   "execution_count": null,
   "id": "ee90592b-46df-4514-9595-df3a9b3f3b8b",
   "metadata": {},
   "outputs": [],
   "source": []
  },
  {
   "cell_type": "code",
   "execution_count": null,
   "id": "b46ce426-5b62-42aa-b570-8a24b1804e66",
   "metadata": {},
   "outputs": [],
   "source": []
  },
  {
   "cell_type": "code",
   "execution_count": null,
   "id": "0c22010b-f8e3-4bc1-b2d3-198fcd0cdcbb",
   "metadata": {},
   "outputs": [],
   "source": []
  },
  {
   "cell_type": "code",
   "execution_count": null,
   "id": "5abd2a4b-5ec3-40fb-8022-6c860e0878e3",
   "metadata": {},
   "outputs": [],
   "source": []
  },
  {
   "cell_type": "code",
   "execution_count": null,
   "id": "f41e3881-3ca8-4d84-b7eb-3a552f748beb",
   "metadata": {},
   "outputs": [],
   "source": []
  },
  {
   "cell_type": "code",
   "execution_count": null,
   "id": "3475f89e-e9f5-4faf-80e4-516ae7b707c9",
   "metadata": {},
   "outputs": [],
   "source": []
  }
 ],
 "metadata": {
  "kernelspec": {
   "display_name": "Python 3 (ipykernel)",
   "language": "python",
   "name": "python3"
  },
  "language_info": {
   "codemirror_mode": {
    "name": "ipython",
    "version": 3
   },
   "file_extension": ".py",
   "mimetype": "text/x-python",
   "name": "python",
   "nbconvert_exporter": "python",
   "pygments_lexer": "ipython3",
   "version": "3.8.8"
  }
 },
 "nbformat": 4,
 "nbformat_minor": 5
}
